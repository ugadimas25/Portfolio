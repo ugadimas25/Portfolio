{
 "cells": [
  {
   "cell_type": "markdown",
   "source": [
    "# Step 1 : Extract by mask"
   ],
   "metadata": {
    "collapsed": false
   }
  },
  {
   "cell_type": "code",
   "execution_count": 1,
   "metadata": {
    "collapsed": true,
    "ExecuteTime": {
     "end_time": "2023-08-22T14:24:08.927278700Z",
     "start_time": "2023-08-22T14:18:28.951893200Z"
    }
   },
   "outputs": [
    {
     "name": "stdout",
     "output_type": "stream",
     "text": [
      "ExtractByMask for C:\\Users\\dimas.perceka\\OneDrive - Koltiva\\Desktop\\PLENO\\S2A_MSIL2A_T48MXU_20230822T052800_QGIS\\RT_T48MXU_20230723T025531_B02.tif completed.\n",
      "ExtractByMask for C:\\Users\\dimas.perceka\\OneDrive - Koltiva\\Desktop\\PLENO\\S2A_MSIL2A_T48MXU_20230822T052800_QGIS\\RT_T48MXU_20230723T025531_B03.tif completed.\n",
      "ExtractByMask for C:\\Users\\dimas.perceka\\OneDrive - Koltiva\\Desktop\\PLENO\\S2A_MSIL2A_T48MXU_20230822T052800_QGIS\\RT_T48MXU_20230723T025531_B04.tif completed.\n",
      "ExtractByMask for C:\\Users\\dimas.perceka\\OneDrive - Koltiva\\Desktop\\PLENO\\S2A_MSIL2A_T48MXU_20230822T052800_QGIS\\RT_T48MXU_20230723T025531_B05.tif completed.\n",
      "ExtractByMask for C:\\Users\\dimas.perceka\\OneDrive - Koltiva\\Desktop\\PLENO\\S2A_MSIL2A_T48MXU_20230822T052800_QGIS\\RT_T48MXU_20230723T025531_B06.tif completed.\n",
      "ExtractByMask for C:\\Users\\dimas.perceka\\OneDrive - Koltiva\\Desktop\\PLENO\\S2A_MSIL2A_T48MXU_20230822T052800_QGIS\\RT_T48MXU_20230723T025531_B07.tif completed.\n",
      "ExtractByMask for C:\\Users\\dimas.perceka\\OneDrive - Koltiva\\Desktop\\PLENO\\S2A_MSIL2A_T48MXU_20230822T052800_QGIS\\RT_T48MXU_20230723T025531_B08.tif completed.\n",
      "ExtractByMask for C:\\Users\\dimas.perceka\\OneDrive - Koltiva\\Desktop\\PLENO\\S2A_MSIL2A_T48MXU_20230822T052800_QGIS\\RT_T48MXU_20230723T025531_B11.tif completed.\n",
      "ExtractByMask for C:\\Users\\dimas.perceka\\OneDrive - Koltiva\\Desktop\\PLENO\\S2A_MSIL2A_T48MXU_20230822T052800_QGIS\\RT_T48MXU_20230723T025531_B12.tif completed.\n",
      "ExtractByMask for C:\\Users\\dimas.perceka\\OneDrive - Koltiva\\Desktop\\PLENO\\S2A_MSIL2A_T48MXU_20230822T052800_QGIS\\RT_T48MXU_20230723T025531_B8A.tif completed.\n",
      "All ExtractByMask operations completed.\n"
     ]
    }
   ],
   "source": [
    "import arcpy\n",
    "import os\n",
    "from arcpy.sa import *\n",
    "import glob\n",
    "\n",
    "# Set the workspace and environment settings\n",
    "arcpy.env.workspace = r\"C:\\Users\\dimas.perceka\\OneDrive - Koltiva\\Desktop\\PLENO\\S2A_MSIL2A_T48MXU_20230822T052800_QGIS\"\n",
    "arcpy.env.extent = \"MAXOF\"\n",
    "\n",
    "# Define the mask layer path\n",
    "mask_layer = r\"C:\\Users\\dimas.perceka\\OneDrive - Koltiva\\Desktop\\PLENO\\AOI\\bbox_proj_all.shp\"\n",
    "\n",
    "# Define the output folder for masked raster results\n",
    "output_folder = r\"C:\\Users\\dimas.perceka\\OneDrive - Koltiva\\Desktop\\PLENO\\Result\\Objective_2\\step_1_ebm_raw\"\n",
    "\n",
    "# Get a list of all .tif files in the workspace\n",
    "raster_filenames = glob.glob(os.path.join(arcpy.env.workspace, \"*.tif\"))\n",
    "\n",
    "# Loop through each raster filename and perform ExtractByMask\n",
    "for raster_filename in raster_filenames:\n",
    "    output_raster_name = os.path.basename(raster_filename).replace(\".tif\", \"_masked.tif\")\n",
    "    output_raster_path = os.path.join(output_folder, output_raster_name)\n",
    "\n",
    "    # Perform ExtractByMask\n",
    "    out_extract = ExtractByMask(raster_filename, mask_layer)\n",
    "\n",
    "    # Save the masked raster\n",
    "    out_extract.save(output_raster_path)\n",
    "    print(f\"ExtractByMask for {raster_filename} completed.\")\n",
    "\n",
    "print(\"All ExtractByMask operations completed.\")"
   ]
  },
  {
   "cell_type": "markdown",
   "source": [
    "Step 2 : Band Calculation"
   ],
   "metadata": {
    "collapsed": false
   }
  },
  {
   "cell_type": "code",
   "execution_count": null,
   "outputs": [],
   "source": [
    "import arcpy\n",
    "from arcpy.sa import *\n",
    "\n",
    "# Set the workspace and environment settings\n",
    "arcpy.env.workspace = r\"C:\\Users\\dimas.perceka\\OneDrive - Koltiva\\Desktop\\PLENO\\Result\\Objective_2\\step_1_ebm_raw\"\n",
    "arcpy.env.extent = \"MAXOF\"\n",
    "\n",
    "# Define the input raster paths\n",
    "blue = \"RT_T48MXU_20230723T025531_B02_masked.tif\"\n",
    "green = \"RT_T48MXU_20230723T025531_B03_masked.tif\"\n",
    "red = \"RT_T48MXU_20230723T025531_B04_masked.tif\"\n",
    "re1 = \"RT_T48MXU_20230723T025531_B05_masked.tif\"\n",
    "re2 = \"RT_T48MXU_20230723T025531_B06_masked.tif\"\n",
    "re3 = \"RT_T48MXU_20230723T025531_B07_masked.tif\"\n",
    "nir = \"RT_T48MXU_20230723T025531_B08_masked.tif\"\n",
    "nir_narrow = \"RT_T48MXU_20230723T025531_B8A_masked.tif\"\n",
    "swir = \"RT_T48MXU_20230723T025531_B11_masked.tif\"\n",
    "swir_2 = \"RT_T48MXU_20230723T025531_B12_masked.tif\"\n",
    "\n",
    "# Define the output folder\n",
    "output_folder = r\"C:\\Users\\dimas.perceka\\OneDrive - Koltiva\\Desktop\\PLENO\\Result\\Objective_2\\step_2_band_calc\"\n",
    "\n",
    "# Define the expressions for different calculations\n",
    "arvi_expression = \"(Float(nir) - (2 * Float(red) - Float(blue))) / (Float(nir) + (2 * Float(red) - Float(blue)))\"\n",
    "cig_expression = \"(Float(nir) / Float(green)) - 1\"\n",
    "evi_expression = \"Float(nir) - Float(red)\"\n",
    "gndvi_expression = \"2.5 * (Float(nir) - Float(red)) / (Float(nir) + 6 * Float(red) - 7.5 * Float(blue) + 1)\"\n",
    "cire_expression = \"Float(re3) / Float(re1) - 1\"\n",
    "ireci_expression = \"(Float(re3) - Float(red)) / (Float(re1) / Float(re2))\"\n",
    "mcari_expression = \"((Float(re1) - Float(red)) - 0.2 * (Float(re1) - Float(green))) * (Float(re1) / Float(red))\"\n",
    "ndvire1_expression = \"(Float(nir) - Float(re1)) / (Float(nir) + Float(re1))\"\n",
    "\n",
    "# Execute RasterCalculator function for different calculations\n",
    "output_arvi = RasterCalculator([nir, red, blue], [\"nir\", \"red\", \"blue\"], arvi_expression)\n",
    "output_cig = RasterCalculator([nir, green, red], [\"nir\", \"green\", \"red\"], cig_expression)\n",
    "output_evi = RasterCalculator([nir, red], [\"nir\", \"red\"], evi_expression)\n",
    "output_gndvi = RasterCalculator([nir, red, blue], [\"nir\", \"red\", \"blue\"], gndvi_expression)\n",
    "output_cire = RasterCalculator([re3, re1], [\"re3\", \"re1\"], cire_expression)\n",
    "output_ireci = RasterCalculator([re3, red, re1, re2], [\"re3\", \"red\", \"re1\", \"re2\"], ireci_expression)\n",
    "output_mcari = RasterCalculator([re1, red, green, re1], [\"re1\", \"red\", \"green\", \"re1\"], mcari_expression)\n",
    "output_ndvire1 = RasterCalculator([nir, re1], [\"nir\", \"re1\"], ndvire1_expression)\n",
    "\n",
    "# Save the results\n",
    "output_arvi.save(output_folder + \"\\\\ARVI.tif\")\n",
    "output_cig.save(output_folder + \"\\\\CIg.tif\")\n",
    "output_evi.save(output_folder + \"\\\\EVI.tif\")\n",
    "output_gndvi.save(output_folder + \"\\\\GNDVI.tif\")\n",
    "output_cire.save(output_folder + \"\\\\CIre.tif\")\n",
    "output_ireci.save(output_folder + \"\\\\IRECI.tif\")\n",
    "output_mcari.save(output_folder + \"\\\\MCARI.tif\")\n",
    "output_ndvire1.save(output_folder + \"\\\\NDVIre1.tif\")\n",
    "\n",
    "print(\"Calculations completed and results saved.\")"
   ],
   "metadata": {
    "collapsed": false,
    "is_executing": true,
    "ExecuteTime": {
     "start_time": "2023-08-22T14:40:17.885019700Z"
    }
   }
  },
  {
   "cell_type": "code",
   "execution_count": null,
   "outputs": [],
   "source": [],
   "metadata": {
    "collapsed": false
   }
  }
 ],
 "metadata": {
  "kernelspec": {
   "display_name": "Python 3",
   "language": "python",
   "name": "python3"
  },
  "language_info": {
   "codemirror_mode": {
    "name": "ipython",
    "version": 2
   },
   "file_extension": ".py",
   "mimetype": "text/x-python",
   "name": "python",
   "nbconvert_exporter": "python",
   "pygments_lexer": "ipython2",
   "version": "2.7.6"
  }
 },
 "nbformat": 4,
 "nbformat_minor": 0
}
